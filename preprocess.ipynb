{
 "cells": [
  {
   "cell_type": "code",
   "execution_count": 1,
   "metadata": {},
   "outputs": [
    {
     "name": "stderr",
     "output_type": "stream",
     "text": [
      "Using TensorFlow backend.\n"
     ]
    }
   ],
   "source": [
    "import keras\n",
    "import json\n",
    "from datetime import datetime\n",
    "import numpy as np\n",
    "import pandas as pd"
   ]
  },
  {
   "cell_type": "code",
   "execution_count": 2,
   "metadata": {},
   "outputs": [
    {
     "data": {
      "text/plain": [
       "'2.2.4'"
      ]
     },
     "execution_count": 2,
     "metadata": {},
     "output_type": "execute_result"
    }
   ],
   "source": [
    "keras.__version__"
   ]
  },
  {
   "cell_type": "code",
   "execution_count": 3,
   "metadata": {},
   "outputs": [],
   "source": [
    "filename = './input/movie_conversations.txt'\n",
    "conversation = []\n",
    "with open(filename, 'r') as f:\n",
    "    for line in f.readlines():\n",
    "        conversation.append(line.split(' +++$+++ ')[-1])"
   ]
  },
  {
   "cell_type": "code",
   "execution_count": 4,
   "metadata": {},
   "outputs": [],
   "source": [
    "filename = './input/movie_lines.txt'\n",
    "id_to_line = {}\n",
    "with open(filename, 'r') as f:\n",
    "    for line in f.readlines():\n",
    "        tmp = line.strip().split(' +++$+++ ')\n",
    "        if tmp[0][0] != 'L':\n",
    "            id_to_line[tmp[0][1:]] = tmp[-1]\n",
    "        else:\n",
    "            id_to_line[tmp[0]] = tmp[-1]"
   ]
  },
  {
   "cell_type": "code",
   "execution_count": 5,
   "metadata": {},
   "outputs": [
    {
     "name": "stdout",
     "output_type": "stream",
     "text": [
      "83097\n",
      "304713\n"
     ]
    }
   ],
   "source": [
    "print(len(conversation))\n",
    "print(len(id_to_line))"
   ]
  },
  {
   "cell_type": "code",
   "execution_count": 6,
   "metadata": {},
   "outputs": [],
   "source": [
    "raw_all_text = []\n",
    "for lines in conversation:\n",
    "    content = [val[1:-1] for val in lines.strip()[1:-1].split(', ')]\n",
    "    tmp = []\n",
    "    for val in content:\n",
    "        try:\n",
    "            tmp.append(id_to_line[val])\n",
    "        except:\n",
    "            print(\"line {} doesn't exist.\".format(val))\n",
    "    raw_all_text.append(tmp)"
   ]
  },
  {
   "cell_type": "code",
   "execution_count": 7,
   "metadata": {},
   "outputs": [],
   "source": [
    "import re\n",
    "def clean_text(text):\n",
    "    text = text.lower()\n",
    "    text = re.sub(r\"\\'m\", \" am\", text)\n",
    "    text = re.sub(r\"\\'s\", \" is\", text)\n",
    "    text = re.sub(r\"\\'re\", \" are\", text)\n",
    "    text = re.sub(r\"\\'ll\", \" will\", text)\n",
    "    text = re.sub(r\"\\'ve\", \" have\", text)\n",
    "    text = re.sub(r\"\\'re\", \" are\", text)\n",
    "    text = re.sub(r\"\\'d\", \" would\", text)\n",
    "    text = re.sub(r\"won't\", \"will not\", text)\n",
    "    text = re.sub(r\"can't\", \"cannot\", text)\n",
    "    text = re.sub(r\"n't\", \" not\", text)\n",
    "    text = re.sub(r\"[-()\\\"#/@;:<>{}`+=~|.!?,$%&/\\\\\\t\\n]\", \"\", text)\n",
    "    \n",
    "    #!\\\"#$%&()*+,-./:;<=>?@[\\\\]^_`{\\|}~\\t\\n\n",
    "    return text"
   ]
  },
  {
   "cell_type": "code",
   "execution_count": 8,
   "metadata": {},
   "outputs": [],
   "source": [
    "clean_all_text = []\n",
    "for text in raw_all_text:\n",
    "    tmp = []\n",
    "    for val in text:\n",
    "        tmp.append(clean_text(val))\n",
    "    clean_all_text.append(tmp)"
   ]
  },
  {
   "cell_type": "code",
   "execution_count": 9,
   "metadata": {},
   "outputs": [],
   "source": [
    "clean_input_text = []\n",
    "clean_target_text = []\n",
    "for val in clean_all_text:\n",
    "    if len(val) % 2 == 1:\n",
    "        val = val[:-1]\n",
    "    for i, line in enumerate(val):\n",
    "        if i % 2 == 0:\n",
    "            clean_input_text.append(line)\n",
    "        else:\n",
    "            clean_target_text.append(line)"
   ]
  },
  {
   "cell_type": "code",
   "execution_count": 10,
   "metadata": {},
   "outputs": [
    {
     "name": "stdout",
     "output_type": "stream",
     "text": [
      "can we make this quick  roxanne korrine and andrew barrett are having an incredibly horrendous public break up on the quad  again\n",
      "well i thought we would start with pronunciation if that is okay with you\n",
      "not the hacking and gagging and spitting part  please\n",
      "okay then how 'bout we try out some french cuisine  saturday  night\n"
     ]
    }
   ],
   "source": [
    "print(clean_input_text[0])\n",
    "print(clean_target_text[0])\n",
    "print(clean_input_text[1])\n",
    "print(clean_target_text[1])"
   ]
  },
  {
   "cell_type": "code",
   "execution_count": 11,
   "metadata": {},
   "outputs": [
    {
     "name": "stdout",
     "output_type": "stream",
     "text": [
      "654\n",
      "11.537495927896623\n",
      "1\n"
     ]
    }
   ],
   "source": [
    "all_input_length = [len(val.split(' ')) for val in clean_input_text]\n",
    "ave_input_length = np.average(all_input_length)\n",
    "max_input_length = np.max(all_input_length)\n",
    "min_input_length = np.min(all_input_length)\n",
    "print(max_input_length)\n",
    "print(ave_input_length)\n",
    "print(min_input_length)"
   ]
  },
  {
   "cell_type": "code",
   "execution_count": 12,
   "metadata": {},
   "outputs": [
    {
     "name": "stdout",
     "output_type": "stream",
     "text": [
      "1128\n",
      "10.96952980779672\n",
      "1\n"
     ]
    }
   ],
   "source": [
    "all_target_length = [len(val.split(' ')) for val in clean_target_text]\n",
    "ave_target_length = np.average(all_target_length)\n",
    "max_target_length = np.max(all_target_length)\n",
    "min_target_length = np.min(all_target_length)\n",
    "print(max_target_length)\n",
    "print(ave_target_length)\n",
    "print(min_target_length)"
   ]
  },
  {
   "cell_type": "code",
   "execution_count": 13,
   "metadata": {},
   "outputs": [
    {
     "name": "stdout",
     "output_type": "stream",
     "text": [
      "138135\n",
      "138135\n"
     ]
    }
   ],
   "source": [
    "print(len(clean_input_text))\n",
    "print(len(clean_target_text))"
   ]
  },
  {
   "cell_type": "code",
   "execution_count": 14,
   "metadata": {},
   "outputs": [],
   "source": [
    "min_length = 2\n",
    "max_length = 20\n",
    "encode_text = []\n",
    "decode_text = []\n",
    "for que, ans in zip(clean_input_text, clean_target_text):\n",
    "    que_len = len(que.split(' '))\n",
    "    ans_len = len(ans.split(' '))\n",
    "    if que_len < min_length or que_len > max_length or ans_len < min_length or ans_len > max_length - 2:\n",
    "        continue\n",
    "    else:\n",
    "        encode_text.append(que)\n",
    "        decode_text.append('<BOS> '+ ans + ' <EOS>')"
   ]
  },
  {
   "cell_type": "code",
   "execution_count": 15,
   "metadata": {},
   "outputs": [
    {
     "name": "stdout",
     "output_type": "stream",
     "text": [
      "83073\n",
      "83073\n"
     ]
    }
   ],
   "source": [
    "print(len(encode_text))\n",
    "print(len(decode_text))"
   ]
  },
  {
   "cell_type": "code",
   "execution_count": 16,
   "metadata": {},
   "outputs": [],
   "source": [
    "from keras.preprocessing.sequence import pad_sequences\n",
    "from keras.preprocessing.text import Tokenizer"
   ]
  },
  {
   "cell_type": "code",
   "execution_count": 17,
   "metadata": {},
   "outputs": [],
   "source": [
    "VOC_SIZE = 10000\n",
    "tokenizer = Tokenizer(filters='!\"#$%&()*+,-./:;=?@[\\\\]^_`{|}~\\t\\n', num_words=VOC_SIZE)\n",
    "tokenizer.fit_on_texts(encode_text + decode_text)"
   ]
  },
  {
   "cell_type": "code",
   "execution_count": 18,
   "metadata": {},
   "outputs": [],
   "source": [
    "sequence_encode_text = tokenizer.texts_to_sequences(encode_text)\n",
    "sequence_decode_text = tokenizer.texts_to_sequences(decode_text)"
   ]
  },
  {
   "cell_type": "code",
   "execution_count": 19,
   "metadata": {},
   "outputs": [],
   "source": [
    "pad_encode_text = pad_sequences(sequence_encode_text, maxlen=max_length, padding=\"post\")\n",
    "pad_decode_text = pad_sequences(sequence_decode_text, maxlen=max_length, padding=\"post\")"
   ]
  },
  {
   "cell_type": "code",
   "execution_count": 20,
   "metadata": {},
   "outputs": [],
   "source": [
    "import pickle"
   ]
  },
  {
   "cell_type": "code",
   "execution_count": 23,
   "metadata": {},
   "outputs": [
    {
     "name": "stdout",
     "output_type": "stream",
     "text": [
      "[   7    6   21   21 5879  427  135    0    0    0    0    0    0    0\n",
      "    0    0    0    0    0    0]\n"
     ]
    }
   ],
   "source": [
    "print(pad_encode_text[0])"
   ]
  },
  {
   "cell_type": "code",
   "execution_count": 32,
   "metadata": {},
   "outputs": [],
   "source": [
    "with open('pad_encode_text.pk', 'wb') as f:\n",
    "    pickle.dump(pad_encode_text, f)\n",
    "with open('pad_decode_text.pk', 'wb') as f:\n",
    "    pickle.dump(pad_decode_text, f)"
   ]
  },
  {
   "cell_type": "code",
   "execution_count": 33,
   "metadata": {},
   "outputs": [],
   "source": [
    "with open('tokenizer.pk', 'wb') as f:\n",
    "    pickle.dump(tokenizer, f)"
   ]
  },
  {
   "cell_type": "code",
   "execution_count": null,
   "metadata": {},
   "outputs": [],
   "source": []
  },
  {
   "cell_type": "code",
   "execution_count": null,
   "metadata": {},
   "outputs": [],
   "source": []
  }
 ],
 "metadata": {
  "kernelspec": {
   "display_name": "Python 3",
   "language": "python",
   "name": "python3"
  },
  "language_info": {
   "codemirror_mode": {
    "name": "ipython",
    "version": 3
   },
   "file_extension": ".py",
   "mimetype": "text/x-python",
   "name": "python",
   "nbconvert_exporter": "python",
   "pygments_lexer": "ipython3",
   "version": "3.7.3"
  }
 },
 "nbformat": 4,
 "nbformat_minor": 2
}
