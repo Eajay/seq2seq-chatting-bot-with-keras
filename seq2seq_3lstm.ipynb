{
 "cells": [
  {
   "cell_type": "code",
   "execution_count": 1,
   "metadata": {},
   "outputs": [
    {
     "name": "stderr",
     "output_type": "stream",
     "text": [
      "Using TensorFlow backend.\n"
     ]
    }
   ],
   "source": [
    "import keras\n",
    "import json\n",
    "from datetime import datetime\n",
    "import numpy as np\n",
    "import pandas as pd\n",
    "from keras.preprocessing.sequence import pad_sequences\n",
    "from keras.preprocessing.text import Tokenizer\n",
    "import pickle"
   ]
  },
  {
   "cell_type": "code",
   "execution_count": 2,
   "metadata": {},
   "outputs": [],
   "source": [
    "with open('pad_encode_text.pk', 'rb') as f:\n",
    "    pad_encode_text = pickle.load(f)\n",
    "with open('pad_decode_text.pk', 'rb') as f:\n",
    "    pad_decode_text = pickle.load(f)\n",
    "with open('tokenizer.pk', 'rb') as f:\n",
    "    tokenizer = pickle.load(f)"
   ]
  },
  {
   "cell_type": "code",
   "execution_count": 3,
   "metadata": {},
   "outputs": [],
   "source": [
    "# all kinds parameters\n",
    "min_length = 2\n",
    "max_length = 20\n",
    "VOC_SIZE = 10000\n",
    "EMBEDDING_DIM = 100\n",
    "HIDDEN_DIM = 256\n",
    "batch_size = 64\n",
    "epochs = 100\n",
    "fit_size = 20000"
   ]
  },
  {
   "cell_type": "code",
   "execution_count": 4,
   "metadata": {},
   "outputs": [],
   "source": [
    "# read embedding file\n",
    "embeddings_index = {}\n",
    "with open(\"./glove/glove.6B.100d.txt\", 'r',  encoding=\"utf8\") as f:\n",
    "    for line in f:\n",
    "        values = line.split()\n",
    "        word = values[0]\n",
    "        coefs = np.asarray(values[1:], dtype='float32')\n",
    "        embeddings_index[word] = coefs"
   ]
  },
  {
   "cell_type": "code",
   "execution_count": 5,
   "metadata": {},
   "outputs": [],
   "source": [
    "# generate embedding matrix\n",
    "embedding_matrix = np.zeros((VOC_SIZE + 1, EMBEDDING_DIM))\n",
    "count = 0\n",
    "for i in range(1, VOC_SIZE):\n",
    "    embedding_vector = embeddings_index.get(tokenizer.index_word[i])\n",
    "    if embedding_vector is not None:\n",
    "        count += 1\n",
    "        embedding_matrix[i] = embedding_vector"
   ]
  },
  {
   "cell_type": "code",
   "execution_count": 6,
   "metadata": {},
   "outputs": [],
   "source": [
    "from keras.layers import Embedding\n",
    "from keras.models import Model\n",
    "from keras.layers import Input, LSTM, Dense\n",
    "from keras.layers import TimeDistributed\n",
    "from keras.layers import concatenate"
   ]
  },
  {
   "cell_type": "code",
   "execution_count": 7,
   "metadata": {},
   "outputs": [
    {
     "name": "stderr",
     "output_type": "stream",
     "text": [
      "WARNING: Logging before flag parsing goes to stderr.\n",
      "W1212 00:03:30.261675  3236 deprecation_wrapper.py:119] From C:\\others\\anaconda\\lib\\site-packages\\keras\\backend\\tensorflow_backend.py:74: The name tf.get_default_graph is deprecated. Please use tf.compat.v1.get_default_graph instead.\n",
      "\n"
     ]
    }
   ],
   "source": [
    "embedding_layer = Embedding(VOC_SIZE + 1,\n",
    "                            EMBEDDING_DIM,\n",
    "                            weights=[embedding_matrix],\n",
    "                            input_length=max_length,              \n",
    "                            trainable=False)\n"
   ]
  },
  {
   "cell_type": "code",
   "execution_count": 8,
   "metadata": {},
   "outputs": [
    {
     "name": "stderr",
     "output_type": "stream",
     "text": [
      "W1212 00:04:09.286657  3236 deprecation_wrapper.py:119] From C:\\others\\anaconda\\lib\\site-packages\\keras\\backend\\tensorflow_backend.py:517: The name tf.placeholder is deprecated. Please use tf.compat.v1.placeholder instead.\n",
      "\n",
      "W1212 00:04:09.288625  3236 deprecation_wrapper.py:119] From C:\\others\\anaconda\\lib\\site-packages\\keras\\backend\\tensorflow_backend.py:4138: The name tf.random_uniform is deprecated. Please use tf.random.uniform instead.\n",
      "\n",
      "W1212 00:04:09.296632  3236 deprecation_wrapper.py:119] From C:\\others\\anaconda\\lib\\site-packages\\keras\\backend\\tensorflow_backend.py:174: The name tf.get_default_session is deprecated. Please use tf.compat.v1.get_default_session instead.\n",
      "\n",
      "W1212 00:04:09.297627  3236 deprecation_wrapper.py:119] From C:\\others\\anaconda\\lib\\site-packages\\keras\\backend\\tensorflow_backend.py:181: The name tf.ConfigProto is deprecated. Please use tf.compat.v1.ConfigProto instead.\n",
      "\n"
     ]
    }
   ],
   "source": [
    "encoder_inputs = Input(shape=(max_length, ))\n",
    "encoder_embedding = embedding_layer(encoder_inputs)\n",
    "encoder_LSTM_1 = LSTM(HIDDEN_DIM, return_sequences=True)(encoder_embedding)\n",
    "encoder_LSTM_2 = LSTM(HIDDEN_DIM, return_sequences=True)(encoder_LSTM_1)\n",
    "encoder_LSTM_3 = LSTM(HIDDEN_DIM, return_state=True)\n",
    "encoder_outputs, state_h, state_c = encoder_LSTM_3(encoder_LSTM_2)\n",
    "encoder_states = [state_h, state_c]\n",
    "\n",
    "decoder_inputs = Input(shape=(max_length, ))\n",
    "decoder_embedding = embedding_layer(decoder_inputs)\n",
    "decoder_LSTM_1 = LSTM(HIDDEN_DIM, return_sequences=True)(decoder_embedding, initial_state=encoder_states)\n",
    "decoder_LSTM_2 = LSTM(HIDDEN_DIM, return_sequences=True)(decoder_LSTM_1)\n",
    "decoder_LSTM_3 = LSTM(HIDDEN_DIM, return_sequences=True, return_state=True)\n",
    "outputs, _, _, = decoder_LSTM_3(decoder_LSTM_2)\n",
    "decoder_dense = Dense(VOC_SIZE+1, activation='softmax')\n",
    "decoder_outputs = decoder_dense(outputs)"
   ]
  },
  {
   "cell_type": "code",
   "execution_count": 9,
   "metadata": {},
   "outputs": [
    {
     "name": "stderr",
     "output_type": "stream",
     "text": [
      "W1212 00:04:15.861125  3236 deprecation_wrapper.py:119] From C:\\others\\anaconda\\lib\\site-packages\\keras\\optimizers.py:790: The name tf.train.Optimizer is deprecated. Please use tf.compat.v1.train.Optimizer instead.\n",
      "\n"
     ]
    },
    {
     "name": "stdout",
     "output_type": "stream",
     "text": [
      "__________________________________________________________________________________________________\n",
      "Layer (type)                    Output Shape         Param #     Connected to                     \n",
      "==================================================================================================\n",
      "input_2 (InputLayer)            (None, 20)           0                                            \n",
      "__________________________________________________________________________________________________\n",
      "input_1 (InputLayer)            (None, 20)           0                                            \n",
      "__________________________________________________________________________________________________\n",
      "embedding_1 (Embedding)         (None, 20, 100)      1000100     input_1[0][0]                    \n",
      "                                                                 input_2[0][0]                    \n",
      "__________________________________________________________________________________________________\n",
      "lstm_1 (LSTM)                   (None, 20, 256)      365568      embedding_1[0][0]                \n",
      "__________________________________________________________________________________________________\n",
      "lstm_2 (LSTM)                   (None, 20, 256)      525312      lstm_1[0][0]                     \n",
      "__________________________________________________________________________________________________\n",
      "lstm_3 (LSTM)                   [(None, 256), (None, 525312      lstm_2[0][0]                     \n",
      "__________________________________________________________________________________________________\n",
      "lstm_4 (LSTM)                   (None, 20, 256)      365568      embedding_1[1][0]                \n",
      "                                                                 lstm_3[0][1]                     \n",
      "                                                                 lstm_3[0][2]                     \n",
      "__________________________________________________________________________________________________\n",
      "lstm_5 (LSTM)                   (None, 20, 256)      525312      lstm_4[0][0]                     \n",
      "__________________________________________________________________________________________________\n",
      "lstm_6 (LSTM)                   [(None, 20, 256), (N 525312      lstm_5[0][0]                     \n",
      "__________________________________________________________________________________________________\n",
      "dense_1 (Dense)                 (None, 20, 10001)    2570257     lstm_6[0][0]                     \n",
      "==================================================================================================\n",
      "Total params: 6,402,741\n",
      "Trainable params: 5,402,641\n",
      "Non-trainable params: 1,000,100\n",
      "__________________________________________________________________________________________________\n"
     ]
    }
   ],
   "source": [
    "model = Model([encoder_inputs, decoder_inputs], [decoder_outputs])\n",
    "model.compile(optimizer='rmsprop', loss='categorical_crossentropy',\n",
    "              metrics=['accuracy'])\n",
    "model.summary()"
   ]
  },
  {
   "cell_type": "code",
   "execution_count": null,
   "metadata": {},
   "outputs": [],
   "source": [
    "from tqdm import tqdm_notebook\n",
    "batchCount = int(pad_decode_text.shape[0]/batch_size)+1\n",
    "for e in range(1, epochs+1):\n",
    "    print('-'*15, 'Epoch %d' % e, '-'*15)\n",
    "    for i in tqdm_notebook(range((int)(batchCount))):\n",
    "        pad_encode_text_sample = pad_encode_text[i*batch_size:(i+1)*batch_size]\n",
    "        pad_decode_text_sample = pad_decode_text[i*batch_size:(i+1)*batch_size]\n",
    "        size = len(pad_decode_text_sample)\n",
    "        one_hot_target_text = np.zeros((size, max_length, VOC_SIZE+1), dtype='int')\n",
    "        for k, seqs in enumerate(pad_decode_text_sample):\n",
    "            for j, seq in enumerate(seqs):\n",
    "                if j > 0:\n",
    "                    one_hot_target_text[k][j-1][seq] = 1\n",
    "        model.train_on_batch([pad_encode_text_sample, pad_decode_text_sample], one_hot_target_text)"
   ]
  },
  {
   "cell_type": "code",
   "execution_count": null,
   "metadata": {},
   "outputs": [],
   "source": [
    "model.save('s2s_3lstm_voc10000.h5')"
   ]
  }
 ],
 "metadata": {
  "kernelspec": {
   "display_name": "Python 3",
   "language": "python",
   "name": "python3"
  },
  "language_info": {
   "codemirror_mode": {
    "name": "ipython",
    "version": 3
   },
   "file_extension": ".py",
   "mimetype": "text/x-python",
   "name": "python",
   "nbconvert_exporter": "python",
   "pygments_lexer": "ipython3",
   "version": "3.7.3"
  }
 },
 "nbformat": 4,
 "nbformat_minor": 2
}
