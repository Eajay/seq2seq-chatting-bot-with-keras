{
 "cells": [
  {
   "cell_type": "code",
   "execution_count": 1,
   "metadata": {},
   "outputs": [
    {
     "name": "stderr",
     "output_type": "stream",
     "text": [
      "Using TensorFlow backend.\n"
     ]
    }
   ],
   "source": [
    "import keras\n",
    "import json\n",
    "from datetime import datetime\n",
    "import numpy as np\n",
    "import pandas as pd\n",
    "from keras.preprocessing.sequence import pad_sequences\n",
    "from keras.preprocessing.text import Tokenizer\n",
    "import pickle"
   ]
  },
  {
   "cell_type": "code",
   "execution_count": 2,
   "metadata": {},
   "outputs": [],
   "source": [
    "with open('pad_encode_text.pk', 'rb') as f:\n",
    "    pad_encode_text = pickle.load(f)\n",
    "with open('pad_decode_text.pk', 'rb') as f:\n",
    "    pad_decode_text = pickle.load(f)\n",
    "with open('tokenizer.pk', 'rb') as f:\n",
    "    tokenizer = pickle.load(f)"
   ]
  },
  {
   "cell_type": "code",
   "execution_count": 3,
   "metadata": {},
   "outputs": [],
   "source": [
    "min_length = 2\n",
    "max_length = 20\n",
    "VOC_SIZE = 10000"
   ]
  },
  {
   "cell_type": "code",
   "execution_count": 4,
   "metadata": {},
   "outputs": [],
   "source": [
    "import re\n",
    "def clean_text(text):\n",
    "    text = text.lower()\n",
    "    text = re.sub(r\"\\'m\", \" am\", text)\n",
    "    text = re.sub(r\"\\'s\", \" is\", text)\n",
    "    text = re.sub(r\"\\'re\", \" are\", text)\n",
    "    text = re.sub(r\"\\'ll\", \" will\", text)\n",
    "    text = re.sub(r\"\\'ve\", \" have\", text)\n",
    "    text = re.sub(r\"\\'re\", \" are\", text)\n",
    "    text = re.sub(r\"\\'d\", \" would\", text)\n",
    "    text = re.sub(r\"won't\", \"will not\", text)\n",
    "    text = re.sub(r\"can't\", \"cannot\", text)\n",
    "    text = re.sub(r\"n't\", \" not\", text)\n",
    "    text = re.sub(r\"[-()\\\"#/@;:<>{}`+=~|.!?,$%&/\\\\\\t\\n]\", \"\", text)\n",
    "    \n",
    "    #!\\\"#$%&()*+,-./:;<=>?@[\\\\]^_`{\\|}~\\t\\n\n",
    "    return text"
   ]
  },
  {
   "cell_type": "code",
   "execution_count": 5,
   "metadata": {},
   "outputs": [],
   "source": [
    "file_name = 'question.csv'\n",
    "question_df = pd.read_csv(file_name, names=[\"question\"])"
   ]
  },
  {
   "cell_type": "code",
   "execution_count": 6,
   "metadata": {},
   "outputs": [
    {
     "data": {
      "text/html": [
       "<div>\n",
       "<style scoped>\n",
       "    .dataframe tbody tr th:only-of-type {\n",
       "        vertical-align: middle;\n",
       "    }\n",
       "\n",
       "    .dataframe tbody tr th {\n",
       "        vertical-align: top;\n",
       "    }\n",
       "\n",
       "    .dataframe thead th {\n",
       "        text-align: right;\n",
       "    }\n",
       "</style>\n",
       "<table border=\"1\" class=\"dataframe\">\n",
       "  <thead>\n",
       "    <tr style=\"text-align: right;\">\n",
       "      <th></th>\n",
       "      <th>question</th>\n",
       "    </tr>\n",
       "  </thead>\n",
       "  <tbody>\n",
       "    <tr>\n",
       "      <th>0</th>\n",
       "      <td>How are you?</td>\n",
       "    </tr>\n",
       "    <tr>\n",
       "      <th>1</th>\n",
       "      <td>How is it going?</td>\n",
       "    </tr>\n",
       "    <tr>\n",
       "      <th>2</th>\n",
       "      <td>How old are you?</td>\n",
       "    </tr>\n",
       "    <tr>\n",
       "      <th>3</th>\n",
       "      <td>How do you like to cook your meat?</td>\n",
       "    </tr>\n",
       "    <tr>\n",
       "      <th>4</th>\n",
       "      <td>What is your schedule?</td>\n",
       "    </tr>\n",
       "    <tr>\n",
       "      <th>5</th>\n",
       "      <td>What is your name?</td>\n",
       "    </tr>\n",
       "    <tr>\n",
       "      <th>6</th>\n",
       "      <td>What's up?</td>\n",
       "    </tr>\n",
       "    <tr>\n",
       "      <th>7</th>\n",
       "      <td>What is your favorite color?</td>\n",
       "    </tr>\n",
       "    <tr>\n",
       "      <th>8</th>\n",
       "      <td>What is your favorite song?</td>\n",
       "    </tr>\n",
       "    <tr>\n",
       "      <th>9</th>\n",
       "      <td>What is the weather like?</td>\n",
       "    </tr>\n",
       "  </tbody>\n",
       "</table>\n",
       "</div>"
      ],
      "text/plain": [
       "                             question\n",
       "0                        How are you?\n",
       "1                    How is it going?\n",
       "2                    How old are you?\n",
       "3  How do you like to cook your meat?\n",
       "4              What is your schedule?\n",
       "5                  What is your name?\n",
       "6                          What's up?\n",
       "7        What is your favorite color?\n",
       "8         What is your favorite song?\n",
       "9           What is the weather like?"
      ]
     },
     "execution_count": 6,
     "metadata": {},
     "output_type": "execute_result"
    }
   ],
   "source": [
    "question_df.head(10)"
   ]
  },
  {
   "cell_type": "code",
   "execution_count": 7,
   "metadata": {},
   "outputs": [
    {
     "name": "stdout",
     "output_type": "stream",
     "text": [
      "how are you\n"
     ]
    }
   ],
   "source": [
    "clean_question_text = []\n",
    "for sentence in question_df[\"question\"]:\n",
    "    clean_question_text.append(clean_text(sentence))\n",
    "print(clean_question_text[0])"
   ]
  },
  {
   "cell_type": "code",
   "execution_count": 8,
   "metadata": {},
   "outputs": [],
   "source": [
    "sequence_question = tokenizer.texts_to_sequences(clean_question_text)\n",
    "pad_question = pad_sequences(sequence_question, maxlen=max_length, padding=\"post\")\n",
    "tokenizer.index_word[0] = ' '"
   ]
  },
  {
   "cell_type": "code",
   "execution_count": 9,
   "metadata": {},
   "outputs": [],
   "source": [
    "def decode_sequence(input_s, model):\n",
    "    flag = 0\n",
    "    ans_partial = np.zeros((1, max_length))\n",
    "    ans_partial[0, 0] = 1\n",
    "    seq = []\n",
    "    for k in range(max_length - 1):\n",
    "        res = model.predict([input_s, ans_partial])\n",
    "        index = np.argmax(res[0][k])\n",
    "        ans_partial[0, k+1] = index\n",
    "        seq.append(tokenizer.index_word[index])\n",
    "        # symbol <eos> is the end of decoding\n",
    "        if tokenizer.index_word[index] == '<eos>':\n",
    "            break\n",
    "    return seq"
   ]
  },
  {
   "cell_type": "code",
   "execution_count": 11,
   "metadata": {},
   "outputs": [],
   "source": [
    "import tqdm\n",
    "def get_training_result(model):\n",
    "    res = []\n",
    "    for test_index in tqdm.trange(len(pad_question)):\n",
    "        input_seq = pad_question[test_index: test_index+1]\n",
    "        \n",
    "        decoded_sentence = decode_sequence(input_seq, model)\n",
    "        res.append(decoded_sentence)\n",
    "    return res"
   ]
  },
  {
   "cell_type": "code",
   "execution_count": 12,
   "metadata": {},
   "outputs": [],
   "source": [
    "from keras.models import Model, load_model\n",
    "model_naive_seq2seq = load_model(\"s2s_voc10000.h5\")\n",
    "seq2seq_res = get_training_result(model_seq2seq)"
   ]
  },
  {
   "cell_type": "code",
   "execution_count": null,
   "metadata": {},
   "outputs": [],
   "source": [
    "model_concate = load_model(\"concate_voc10000.h5\")\n",
    "concate_res = get_training_result(model_concate)"
   ]
  },
  {
   "cell_type": "code",
   "execution_count": null,
   "metadata": {},
   "outputs": [],
   "source": [
    "from keras_self_attention import SeqSelfAttention\n",
    "model_seq2seq_attention = load_model(\"s2s_attention_voc10000.h5\", custom_objects=SeqSelfAttention.get_custom_objects())\n",
    "seq2seq_attention_res = get_training_result(model_seq2seq_attention)"
   ]
  },
  {
   "cell_type": "code",
   "execution_count": 13,
   "metadata": {},
   "outputs": [],
   "source": [
    "# remove ' ' and '<eos>'\n",
    "def clean_res(res):\n",
    "    clean_result = []\n",
    "    for sentence in res:\n",
    "        tmp = []\n",
    "        for val in sentence:\n",
    "            if val != ' ' and val != '<eos>':\n",
    "                tmp.append(val)\n",
    "        clean_result.append(tmp)\n",
    "    return clean_result"
   ]
  },
  {
   "cell_type": "code",
   "execution_count": null,
   "metadata": {},
   "outputs": [],
   "source": [
    "seq2seq_clean_res = clean_res(seq2seq_res)\n",
    "concate_clean_res = clean_res(concate_res)\n",
    "seq2seq_attention_clean_res = clean_res(seq2seq_attention_res)"
   ]
  },
  {
   "cell_type": "code",
   "execution_count": null,
   "metadata": {},
   "outputs": [],
   "source": [
    "# from list to string\n",
    "def assemble_word(res):\n",
    "    sentences = []\n",
    "    for val in res:\n",
    "        sentences.append(' '.join(val))\n",
    "    return sentences"
   ]
  },
  {
   "cell_type": "code",
   "execution_count": null,
   "metadata": {},
   "outputs": [],
   "source": [
    "seq2seq_final = assemble_word(seq2seq_clean_res)\n",
    "concate_final = assemble_word(concate_clean_res)\n",
    "seq2seq_attention_final = assemble_word(seq2seq_attention_clean_res)"
   ]
  },
  {
   "cell_type": "code",
   "execution_count": null,
   "metadata": {},
   "outputs": [],
   "source": [
    "# write the result back to csv file\n",
    "res_df = pd.DataFrame({'question': question_df[\"question\"],\n",
    "                      'seq2seq': seq2seq_final,\n",
    "                      'concate': concate_final,\n",
    "                      'seq2seq_attention': seq2seq_attention_final})\n",
    "res_df.to_csv(\"answer.csv\")"
   ]
  },
  {
   "cell_type": "code",
   "execution_count": null,
   "metadata": {},
   "outputs": [],
   "source": []
  }
 ],
 "metadata": {
  "kernelspec": {
   "display_name": "Python 3",
   "language": "python",
   "name": "python3"
  },
  "language_info": {
   "codemirror_mode": {
    "name": "ipython",
    "version": 3
   },
   "file_extension": ".py",
   "mimetype": "text/x-python",
   "name": "python",
   "nbconvert_exporter": "python",
   "pygments_lexer": "ipython3",
   "version": "3.7.3"
  }
 },
 "nbformat": 4,
 "nbformat_minor": 2
}
