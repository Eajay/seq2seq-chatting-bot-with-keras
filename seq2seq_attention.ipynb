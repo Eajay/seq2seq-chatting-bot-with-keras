{
 "cells": [
  {
   "cell_type": "code",
   "execution_count": 1,
   "metadata": {},
   "outputs": [
    {
     "name": "stderr",
     "output_type": "stream",
     "text": [
      "Using TensorFlow backend.\n"
     ]
    }
   ],
   "source": [
    "import keras\n",
    "import json\n",
    "from datetime import datetime\n",
    "import numpy as np\n",
    "import pandas as pd\n",
    "from keras.preprocessing.sequence import pad_sequences\n",
    "from keras.preprocessing.text import Tokenizer\n",
    "import pickle"
   ]
  },
  {
   "cell_type": "code",
   "execution_count": 2,
   "metadata": {},
   "outputs": [],
   "source": [
    "with open('pad_encode_text.pk', 'rb') as f:\n",
    "    pad_encode_text = pickle.load(f)\n",
    "with open('pad_decode_text.pk', 'rb') as f:\n",
    "    pad_decode_text = pickle.load(f)\n",
    "with open('tokenizer.pk', 'rb') as f:\n",
    "    tokenizer = pickle.load(f)"
   ]
  },
  {
   "cell_type": "code",
   "execution_count": 3,
   "metadata": {},
   "outputs": [],
   "source": [
    "# all kinds parameters\n",
    "min_length = 2\n",
    "max_length = 20\n",
    "VOC_SIZE = 10000\n",
    "EMBEDDING_DIM = 100\n",
    "HIDDEN_DIM = 256\n",
    "batch_size = 64\n",
    "epochs = 100\n",
    "fit_size = 20000"
   ]
  },
  {
   "cell_type": "code",
   "execution_count": 4,
   "metadata": {},
   "outputs": [],
   "source": [
    "# read embedding file\n",
    "embeddings_index = {}\n",
    "with open(\"./glove/glove.6B.100d.txt\", 'r',  encoding=\"utf8\") as f:\n",
    "    for line in f:\n",
    "        values = line.split()\n",
    "        word = values[0]\n",
    "        coefs = np.asarray(values[1:], dtype='float32')\n",
    "        embeddings_index[word] = coefs"
   ]
  },
  {
   "cell_type": "code",
   "execution_count": 5,
   "metadata": {},
   "outputs": [],
   "source": [
    "# generate embedding matrix\n",
    "embedding_matrix = np.zeros((VOC_SIZE + 1, EMBEDDING_DIM))\n",
    "count = 0\n",
    "for i in range(1, VOC_SIZE):\n",
    "    embedding_vector = embeddings_index.get(tokenizer.index_word[i])\n",
    "    if embedding_vector is not None:\n",
    "        count += 1\n",
    "        embedding_matrix[i] = embedding_vector"
   ]
  },
  {
   "cell_type": "code",
   "execution_count": 7,
   "metadata": {},
   "outputs": [],
   "source": [
    "from keras.layers import Embedding\n",
    "from keras.models import Model\n",
    "from keras.layers import Input, LSTM, Dense\n",
    "from keras.layers import TimeDistributed\n",
    "from keras.layers import concatenate\n",
    "from keras_self_attention import SeqSelfAttention"
   ]
  },
  {
   "cell_type": "code",
   "execution_count": 9,
   "metadata": {},
   "outputs": [],
   "source": [
    "embedding_layer = Embedding(VOC_SIZE + 1,\n",
    "                            EMBEDDING_DIM,\n",
    "                            weights=[embedding_matrix],\n",
    "                            input_length=max_length,              \n",
    "                            trainable=False)"
   ]
  },
  {
   "cell_type": "code",
   "execution_count": 11,
   "metadata": {},
   "outputs": [],
   "source": [
    "encoder_inputs = Input(shape=(max_length, ))\n",
    "encoder_embedding = embedding_layer(encoder_inputs)\n",
    "encoder_LSTM = LSTM(HIDDEN_DIM, return_sequences = True, return_state = True)\n",
    "encoder_outputs, state_h, state_c = encoder_LSTM(encoder_embedding)\n",
    "encoder_states = [state_h, state_c]\n",
    "\n",
    "encoder_att = SeqSelfAttention(attention_type=SeqSelfAttention.ATTENTION_TYPE_MUL,\n",
    "                       kernel_regularizer=keras.regularizers.l2(1e-4),\n",
    "                       bias_regularizer=keras.regularizers.l1(1e-4),\n",
    "                       attention_regularizer_weight=1e-4,\n",
    "                       name='Attention')(encoder_outputs)\n",
    "\n",
    "decoder_inputs = Input(shape=(max_length, ))\n",
    "decoder_embedding = embedding_layer(decoder_inputs)\n",
    "decoder_LSTM = LSTM(HIDDEN_DIM, return_sequences=True, return_state=True)\n",
    "decoder_outputs, _, _, = decoder_LSTM(decoder_embedding, initial_state=encoder_states)\n",
    "\n",
    "concate = concatenate([encoder_att, decoder_outputs], axis=-1)\n",
    "dense = Dense(VOC_SIZE+1, activation='softmax')\n",
    "outputs = dense(concate)"
   ]
  },
  {
   "cell_type": "code",
   "execution_count": 12,
   "metadata": {},
   "outputs": [
    {
     "name": "stderr",
     "output_type": "stream",
     "text": [
      "W1211 23:39:34.613418 10120 deprecation_wrapper.py:119] From C:\\others\\anaconda\\lib\\site-packages\\keras\\optimizers.py:790: The name tf.train.Optimizer is deprecated. Please use tf.compat.v1.train.Optimizer instead.\n",
      "\n"
     ]
    },
    {
     "name": "stdout",
     "output_type": "stream",
     "text": [
      "__________________________________________________________________________________________________\n",
      "Layer (type)                    Output Shape         Param #     Connected to                     \n",
      "==================================================================================================\n",
      "input_3 (InputLayer)            (None, 20)           0                                            \n",
      "__________________________________________________________________________________________________\n",
      "embedding_2 (Embedding)         (None, 20, 100)      1000100     input_3[0][0]                    \n",
      "                                                                 input_4[0][0]                    \n",
      "__________________________________________________________________________________________________\n",
      "input_4 (InputLayer)            (None, 20)           0                                            \n",
      "__________________________________________________________________________________________________\n",
      "lstm_3 (LSTM)                   [(None, 20, 256), (N 365568      embedding_2[2][0]                \n",
      "__________________________________________________________________________________________________\n",
      "Attention (SeqSelfAttention)    (None, 20, 256)      65537       lstm_3[0][0]                     \n",
      "__________________________________________________________________________________________________\n",
      "lstm_4 (LSTM)                   [(None, 20, 256), (N 365568      embedding_2[3][0]                \n",
      "                                                                 lstm_3[0][1]                     \n",
      "                                                                 lstm_3[0][2]                     \n",
      "__________________________________________________________________________________________________\n",
      "concatenate_2 (Concatenate)     (None, 20, 512)      0           Attention[0][0]                  \n",
      "                                                                 lstm_4[0][0]                     \n",
      "__________________________________________________________________________________________________\n",
      "dense_2 (Dense)                 (None, 20, 10001)    5130513     concatenate_2[0][0]              \n",
      "==================================================================================================\n",
      "Total params: 6,927,286\n",
      "Trainable params: 5,927,186\n",
      "Non-trainable params: 1,000,100\n",
      "__________________________________________________________________________________________________\n"
     ]
    }
   ],
   "source": [
    "model = Model([encoder_inputs, decoder_inputs], [outputs])\n",
    "model.compile(optimizer='rmsprop', loss='categorical_crossentropy',\n",
    "              metrics=['accuracy'])\n",
    "model.summary()"
   ]
  },
  {
   "cell_type": "code",
   "execution_count": null,
   "metadata": {},
   "outputs": [],
   "source": [
    "for epoch in range(epochs):\n",
    "    for i in range(int(pad_decode_text.shape[0]/fit_size)+1):\n",
    "        pad_encode_text_sample = pad_encode_text[i*fit_size:(i+1)*fit_size]\n",
    "        pad_decode_text_sample = pad_decode_text[i*fit_size:(i+1)*fit_size]\n",
    "        one_hot_target_text = np.zeros((len(pad_decode_text_sample), max_length, VOC_SIZE+1), dtype='bool')\n",
    "        for k, seqs in enumerate(pad_decode_text_sample):\n",
    "            for j, seq in enumerate(seqs):\n",
    "                if j > 0:\n",
    "                    one_hot_target_text[k][j-1][seq] = 1\n",
    "        model.fit([pad_encode_text_sample, pad_decode_text_sample], one_hot_target_text,\n",
    "              batch_size=batch_size,\n",
    "              epochs=1,\n",
    "              validation_split=0.1)"
   ]
  },
  {
   "cell_type": "code",
   "execution_count": null,
   "metadata": {},
   "outputs": [],
   "source": [
    "model.save('s2s_attention_voc10000.h5')"
   ]
  }
 ],
 "metadata": {
  "kernelspec": {
   "display_name": "Python 3",
   "language": "python",
   "name": "python3"
  },
  "language_info": {
   "codemirror_mode": {
    "name": "ipython",
    "version": 3
   },
   "file_extension": ".py",
   "mimetype": "text/x-python",
   "name": "python",
   "nbconvert_exporter": "python",
   "pygments_lexer": "ipython3",
   "version": "3.7.3"
  }
 },
 "nbformat": 4,
 "nbformat_minor": 2
}
